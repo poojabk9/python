{
 "cells": [
  {
   "cell_type": "code",
   "execution_count": 25,
   "metadata": {},
   "outputs": [
    {
     "name": "stdout",
     "output_type": "stream",
     "text": [
      "Your BMI is 21.87\n",
      "You are Normal weight\n"
     ]
    }
   ],
   "source": [
    "### (Body Mass Index)BMI Calculator ***\n",
    "\n",
    "\n",
    "w = int(input('Enter your weight in Kilogram:'))\n",
    "h = float(input('Enter your height in meters:'))\n",
    "\n",
    "bmi = (w/(h * h))\n",
    "\n",
    "print('Your BMI is',round(bmi,2))\n",
    "if bmi > 0:\n",
    "    if bmi < 18.5:\n",
    "        print('You are Under weight')\n",
    "    elif bmi < 25:\n",
    "        print('You are Normal weight')\n",
    "    elif bmi < 30:\n",
    "        print('You are Overweight')\n",
    "    elif bmi < 35:\n",
    "        print('You are Obese')\n",
    "    elif bmi < 40:\n",
    "        print('You are Severely Obese')\n",
    "    else:\n",
    "        print('You are Morbidly Obese')\n",
    "else:\n",
    "    print('Invalid Input')        "
   ]
  }
 ],
 "metadata": {
  "kernelspec": {
   "display_name": "Python 3",
   "language": "python",
   "name": "python3"
  },
  "language_info": {
   "codemirror_mode": {
    "name": "ipython",
    "version": 3
   },
   "file_extension": ".py",
   "mimetype": "text/x-python",
   "name": "python",
   "nbconvert_exporter": "python",
   "pygments_lexer": "ipython3",
   "version": "3.8.2"
  },
  "orig_nbformat": 4
 },
 "nbformat": 4,
 "nbformat_minor": 2
}
